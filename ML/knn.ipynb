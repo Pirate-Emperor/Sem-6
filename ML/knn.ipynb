{
 "cells": [
  {
   "cell_type": "code",
   "execution_count": null,
   "metadata": {},
   "outputs": [],
   "source": [
    "# With Library\n",
    "from sklearn.neighbors import KNeighborsClassifier\n",
    "from sklearn.metrics import accuracy_score\n",
    "from sklearn.model_selection import train_test_split\n",
    "import numpy as np\n",
    "\n",
    "# Example data\n",
    "X = np.array([[1, 2], [2, 3], [3, 4], [4, 5]])\n",
    "y = np.array([0, 0, 1, 1])  # Example labels\n",
    "\n",
    "# Split data into train and test sets\n",
    "X_train, X_test, y_train, y_test = train_test_split(X, y, test_size=0.2, random_state=42)\n",
    "\n",
    "# KNN model\n",
    "knn = KNeighborsClassifier(n_neighbors=1)\n",
    "knn.fit(X_train, y_train)\n",
    "\n",
    "# Predictions\n",
    "y_pred = knn.predict(X_test)\n",
    "\n",
    "# Evaluate accuracy\n",
    "accuracy = accuracy_score(y_test, y_pred)\n",
    "print(\"Accuracy with library:\", accuracy)\n"
   ]
  },
  {
   "cell_type": "code",
   "execution_count": null,
   "metadata": {},
   "outputs": [],
   "source": [
    "# Without Library\n",
    "import numpy as np\n",
    "\n",
    "# Calculate Euclidean distance between two points\n",
    "def euclidean_distance(p1, p2):\n",
    "    return np.sqrt(np.sum((p1 - p2) ** 2))\n",
    "\n",
    "# K-Nearest Neighbors algorithm\n",
    "def knn(X_train, y_train, X_test, k=3):\n",
    "    predictions = []\n",
    "    for test_point in X_test:\n",
    "        distances = []\n",
    "        for train_point, label in zip(X_train, y_train):\n",
    "            distance = euclidean_distance(test_point, train_point)\n",
    "            distances.append((distance, label))\n",
    "        distances.sort(key=lambda x: x[0])\n",
    "        nearest_neighbors = distances[:k]\n",
    "        neighbors_labels = [neighbor[1] for neighbor in nearest_neighbors]\n",
    "        prediction = max(set(neighbors_labels), key=neighbors_labels.count)\n",
    "        predictions.append(prediction)\n",
    "    return predictions\n",
    "\n",
    "# Example data\n",
    "X = np.array([[1, 2], [2, 3], [3, 4], [4, 5]])\n",
    "y = np.array([0, 0, 1, 1])  # Example labels\n",
    "\n",
    "# Split data into train and test sets\n",
    "X_train, X_test, y_train, y_test = train_test_split(X, y, test_size=0.2, random_state=42)\n",
    "\n",
    "# Predictions\n",
    "y_pred_custom = knn(X_train, y_train, X_test, 1)\n",
    "\n",
    "# Evaluate accuracy\n",
    "accuracy_custom = accuracy_score(y_test, y_pred_custom)\n",
    "print(\"Accuracy without library:\", accuracy_custom)\n"
   ]
  }
 ],
 "metadata": {
  "language_info": {
   "name": "python"
  }
 },
 "nbformat": 4,
 "nbformat_minor": 2
}
