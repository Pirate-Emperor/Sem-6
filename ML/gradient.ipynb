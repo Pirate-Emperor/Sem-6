{
 "cells": [
  {
   "cell_type": "code",
   "execution_count": null,
   "metadata": {},
   "outputs": [],
   "source": [
    "# Without Library\n",
    "import numpy as np\n",
    "\n",
    "# Define the function to optimize (example: f(x) = x^2)\n",
    "def function_to_optimize(x):\n",
    "    return x**2\n",
    "\n",
    "# Define the derivative of the function (gradient)\n",
    "def gradient(x):\n",
    "    return 2*x\n",
    "\n",
    "# Gradient Descent without using libraries\n",
    "def gradient_descent_no_library(learning_rate, num_iterations):\n",
    "    x = 10  # Initial guess\n",
    "    for _ in range(num_iterations):\n",
    "        gradient_value = gradient(x)\n",
    "        x = x - learning_rate * gradient_value\n",
    "    return x\n",
    "\n",
    "# Set hyperparameters\n",
    "learning_rate = 0.1\n",
    "num_iterations = 100\n",
    "\n",
    "# Perform Gradient Descent\n",
    "result_no_library = gradient_descent_no_library(learning_rate, num_iterations)\n",
    "print(\"Result (without library):\", result_no_library)\n"
   ]
  },
  {
   "cell_type": "code",
   "execution_count": null,
   "metadata": {},
   "outputs": [],
   "source": [
    "# With Library\n",
    "import numpy as np\n",
    "\n",
    "# Define the function to optimize (example: f(x) = x^2)\n",
    "def function_to_optimize(x):\n",
    "    return x**2\n",
    "\n",
    "# Gradient Descent using libraries (NumPy)\n",
    "def gradient_descent_numpy(learning_rate, num_iterations):\n",
    "    x = 10  # Initial guess\n",
    "    for _ in range(num_iterations):\n",
    "        gradient_value = 2 * x  # Compute gradient using NumPy\n",
    "        x = x - learning_rate * gradient_value\n",
    "    return x\n",
    "\n",
    "# Set hyperparameters\n",
    "learning_rate = 0.1\n",
    "num_iterations = 100\n",
    "\n",
    "# Perform Gradient Descent\n",
    "result_numpy = gradient_descent_numpy(learning_rate, num_iterations)\n",
    "print(\"Result (with NumPy):\", result_numpy)\n"
   ]
  }
 ],
 "metadata": {
  "language_info": {
   "name": "python"
  }
 },
 "nbformat": 4,
 "nbformat_minor": 2
}
