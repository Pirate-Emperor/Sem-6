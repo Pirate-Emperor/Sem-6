{
 "cells": [
  {
   "cell_type": "code",
   "execution_count": null,
   "metadata": {},
   "outputs": [],
   "source": [
    "import numpy as np\n",
    "\n",
    "# Generate sample data\n",
    "np.random.seed(0)\n",
    "X = 2 * np.random.rand(100, 1)\n",
    "y = 4 + 3 * X + np.random.randn(100, 1)\n",
    "\n",
    "# Add bias term to X\n",
    "X_b = np.c_[np.ones((100, 1)), X]\n",
    "\n",
    "# Normal equation to compute the optimal theta\n",
    "theta_best = np.linalg.inv(X_b.T.dot(X_b)).dot(X_b.T).dot(y)\n",
    "\n",
    "# Predict using the computed parameters\n",
    "X_new = np.array([[0], [2]])\n",
    "X_new_b = np.c_[np.ones((2, 1)), X_new]\n",
    "y_predict = X_new_b.dot(theta_best)\n",
    "\n",
    "# Print the parameters (intercept and slope)\n",
    "print(\"Parameters (intercept and slope):\", theta_best.ravel())\n",
    "\n",
    "# Plot the data and the linear regression line\n",
    "import matplotlib.pyplot as plt\n",
    "plt.plot(X_new, y_predict, \"r-\", label=\"Predictions\")\n",
    "plt.plot(X, y, \"b.\")\n",
    "plt.xlabel(\"X\")\n",
    "plt.ylabel(\"y\")\n",
    "plt.title(\"Linear Regression\")\n",
    "plt.legend()\n",
    "plt.show()\n"
   ]
  },
  {
   "cell_type": "code",
   "execution_count": null,
   "metadata": {},
   "outputs": [],
   "source": [
    "from sklearn.linear_model import LinearRegression\n",
    "\n",
    "# Create a Linear Regression model\n",
    "lin_reg = LinearRegression()\n",
    "\n",
    "# Fit the model to the data\n",
    "lin_reg.fit(X, y)\n",
    "\n",
    "# Print the parameters (intercept and slope)\n",
    "print(\"Parameters (intercept and slope):\", lin_reg.intercept_, lin_reg.coef_)\n",
    "\n",
    "# Predict using the model\n",
    "y_predict_sklearn = lin_reg.predict(X_new)\n",
    "\n",
    "# Plot the data and the linear regression line\n",
    "plt.plot(X_new, y_predict_sklearn, \"g-\", label=\"Predictions (Scikit-learn)\")\n",
    "plt.plot(X, y, \"b.\")\n",
    "plt.xlabel(\"X\")\n",
    "plt.ylabel(\"y\")\n",
    "plt.title(\"Linear Regression\")\n",
    "plt.legend()\n",
    "plt.show()\n"
   ]
  }
 ],
 "metadata": {
  "language_info": {
   "name": "python"
  }
 },
 "nbformat": 4,
 "nbformat_minor": 2
}
