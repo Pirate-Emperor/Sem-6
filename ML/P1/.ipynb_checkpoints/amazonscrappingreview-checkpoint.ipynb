{
 "cells": [
  {
   "cell_type": "code",
   "execution_count": null,
   "metadata": {},
   "outputs": [],
   "source": [
    "from bs4 import BeautifulSoup \n",
    "import pandas as pd \n",
    "import requests\n"
   ]
  },
  {
   "cell_type": "code",
   "execution_count": null,
   "metadata": {},
   "outputs": [],
   "source": [
    "url = 'https://www.amazon.in/boAt-Immortal-Channel-Headphone-Breathing/product-reviews/B08WHTPNVZ/ref=cm_cr_getr_d_paging_btm_prev_5?ie=UTF8&reviewerType=all_reviews&pageNumber=1'\n",
    "headers = {\"User-Agent\": \"Mozilla/5.0 (Windows NT 10.0; Win64; x64) AppleWebKit/537.36 (KHTML, like Gecko) Chrome/112.0.0.0 Safari/537.36\",\"Accept-Encoding\": \"gzip, deflate, br\",\"Accept\": \"text/html,application/xhtml+xml,application/xml;q=0.9,image/avif,image/webp,image/apng,*/*;q=0.8\",\"Upgrade-Insecure-Requests\": \"1\"}\n",
    "page = requests.get(url,headers=headers)\n",
    "soup = BeautifulSoup(page.content,'html.parser')\n",
    "soup1 = BeautifulSoup(soup.prettify(),'html.parser')\n",
    "print(soup1)"
   ]
  },
  {
   "cell_type": "code",
   "execution_count": null,
   "metadata": {},
   "outputs": [],
   "source": [
    "name = soup1.find('span',attrs={'class':'a-profile-name'}).text.strip()\n",
    "print(name)\n",
    "reviewtitle = soup1.find('a',attrs= {'data-hook':\"review-title\"}).text.strip()\n",
    "print(reviewtitle)\n",
    "rating = soup1.find('i',attrs={'class':\"a-icon a-icon-star a-star-5 review-rating\"}).text.strip()\n",
    "print(rating)\n",
    "review = soup1.find('span',attrs={'data-hook':\"review-body\"}).text.strip()\n",
    "print(review)"
   ]
  },
  {
   "cell_type": "code",
   "execution_count": null,
   "metadata": {},
   "outputs": [],
   "source": [
    "names = [name.get_text(strip=True) for name in soup1.findAll('span', attrs={'class':'a-profile-name'})]\n",
    "print(names)\n",
    "reviewtitles = [review.get_text(strip=True) for review in soup1.find_all('a', attrs={'data-hook': 'review-title'})]\n",
    "print(reviewtitles)\n",
    "ratings =[rating.get_text(strip=True) for rating in soup1.findAll('i',attrs={'class':\"a-icon a-icon-star a-star-5 review-rating\"})]\n",
    "print(ratings)\n",
    "reviews =[review.get_text(strip=True) for review in soup1.findAll('span',attrs={'data-hook':\"review-body\"})]\n",
    "print(reviews)"
   ]
  },
  {
   "cell_type": "code",
   "execution_count": null,
   "metadata": {},
   "outputs": [],
   "source": [
    "d = {'names':[],'reviewtitles':[],'ratings':[],'reviews':[]}\n",
    "d['names'].append(names)\n",
    "d['reviewtitles'].append(reviewtitles)\n",
    "d['ratings'].append(ratings)\n",
    "d['reviews'].append(reviews)"
   ]
  },
  {
   "cell_type": "code",
   "execution_count": null,
   "metadata": {},
   "outputs": [],
   "source": [
    "data = pd.DataFrame.from_dict(d)\n",
    "data.head()"
   ]
  },
  {
   "cell_type": "code",
   "execution_count": null,
   "metadata": {},
   "outputs": [],
   "source": [
    "review_links =soup1.find('a', attrs={'class':'a-link-normal'})\n",
    "review_links.get('href')\n",
    "\n",
    "\n"
   ]
  },
  {
   "cell_type": "code",
   "execution_count": null,
   "metadata": {},
   "outputs": [],
   "source": [
    "review_links = [review['href'] for review in soup1.findAll('a', attrs={'data-hook': 'review-title'})]\n",
    "print(review_links)\n"
   ]
  },
  {
   "cell_type": "code",
   "execution_count": null,
   "metadata": {},
   "outputs": [],
   "source": [
    "for i in review_links:\n",
    "    review_url = 'http://www.amazon.in/'+i\n",
    "    print(review_url)"
   ]
  },
  {
   "cell_type": "code",
   "execution_count": null,
   "metadata": {},
   "outputs": [],
   "source": [
    "def get_name(soup):\n",
    "    try:\n",
    "        name = soup.find('span',attrs = {'class':'a-profile-name'}).text.strip()\n",
    "\n",
    "    except AttributeError:\n",
    "        name = ''\n",
    "    return name"
   ]
  },
  {
   "cell_type": "code",
   "execution_count": null,
   "metadata": {},
   "outputs": [],
   "source": [
    "def get_reviewtitle(soup):\n",
    "    try:\n",
    "        reviewtitle = soup.find('a',attrs = {'data-hook':\"review-title\"}).text.strip()\n",
    "        reviewtitle = reviewtitle[19:]\n",
    "\n",
    "    except AttributeError:\n",
    "        reviewtitle = ''\n",
    "    return reviewtitle"
   ]
  },
  {
   "cell_type": "code",
   "execution_count": null,
   "metadata": {},
   "outputs": [],
   "source": [
    "def get_ratings(soup):\n",
    "    try:\n",
    "        rating = soup.find('span',attrs = {'class':'a-icon-alt'}).text.strip()\n",
    "\n",
    "    except AttributeError:\n",
    "        rating = ''\n",
    "    return rating"
   ]
  },
  {
   "cell_type": "code",
   "execution_count": null,
   "metadata": {},
   "outputs": [],
   "source": [
    "def get_review(soup):\n",
    "    try:\n",
    "        review = soup.find('span',attrs = {'data-hook':'review-body'}).text.strip()\n",
    "\n",
    "    except AttributeError:\n",
    "        review = ''\n",
    "    return review"
   ]
  },
  {
   "cell_type": "code",
   "execution_count": null,
   "metadata": {},
   "outputs": [],
   "source": [
    "def get_date(soup):\n",
    "    try:\n",
    "        revdate = soup.find('span',attrs = {'data-hook':'review-date'}).text.strip()\n",
    "        revdate = revdate[revdate.find('on')+3:]\n",
    "\n",
    "    except AttributeError:\n",
    "        revdate = ''\n",
    "    return revdate"
   ]
  },
  {
   "cell_type": "code",
   "execution_count": null,
   "metadata": {},
   "outputs": [],
   "source": [
    "def get_loc(soup):\n",
    "    try:\n",
    "        revdate = soup.find('span',attrs = {'data-hook':'review-date'}).text.strip()\n",
    "        revdate = revdate[12:revdate.find('on')-1]\n",
    "\n",
    "    except AttributeError:\n",
    "        revdate = ''\n",
    "    return revdate"
   ]
  },
  {
   "cell_type": "code",
   "execution_count": null,
   "metadata": {},
   "outputs": [],
   "source": [
    "dict = {'date':[],'names':[],'location':[],'reviewtitles':[],'ratings':[],'reviews':[]}"
   ]
  },
  {
   "cell_type": "code",
   "execution_count": null,
   "metadata": {},
   "outputs": [],
   "source": [
    "for i in review_links:\n",
    "    review_url = 'http://www.amazon.in/'+i\n",
    "    page = requests.get(review_url,headers=headers)\n",
    "    soups = BeautifulSoup(page.content,'html.parser')\n",
    "    dict['date'].append(get_date(soups))\n",
    "    dict['names'].append(get_name(soups))\n",
    "    dict['location'].append(get_loc(soups))\n",
    "    dict['reviewtitles'].append(get_reviewtitle(soups))\n",
    "    dict['ratings'].append(get_ratings(soups))\n",
    "    dict['reviews'].append(get_review(soups))"
   ]
  },
  {
   "cell_type": "code",
   "execution_count": null,
   "metadata": {},
   "outputs": [],
   "source": [
    "print(dict)"
   ]
  },
  {
   "cell_type": "code",
   "execution_count": null,
   "metadata": {},
   "outputs": [],
   "source": [
    "data = pd.DataFrame.from_dict(dict)\n",
    "data.head()"
   ]
  },
  {
   "cell_type": "code",
   "execution_count": null,
   "metadata": {},
   "outputs": [],
   "source": [
    "data"
   ]
  },
  {
   "cell_type": "code",
   "execution_count": null,
   "metadata": {},
   "outputs": [],
   "source": [
    "data.size"
   ]
  },
  {
   "cell_type": "code",
   "execution_count": null,
   "metadata": {},
   "outputs": [],
   "source": [
    "da"
   ]
  },
  {
   "cell_type": "code",
   "execution_count": null,
   "metadata": {},
   "outputs": [],
   "source": [
    "revit = get_reviewtitle(soup1)\n",
    "print(revit)"
   ]
  },
  {
   "cell_type": "code",
   "execution_count": null,
   "metadata": {},
   "outputs": [],
   "source": [
    "completedict =  {'date':[],'names':[],'location':[],'reviewtitles':[],'ratings':[],'reviews':[]}"
   ]
  },
  {
   "cell_type": "code",
   "execution_count": null,
   "metadata": {},
   "outputs": [],
   "source": [
    "for i in range(1,50):\n",
    "    url = 'https://www.amazon.in/boAt-Immortal-Channel-Headphone-Breathing/product-reviews/B08WHTPNVZ/ref=cm_cr_getr_d_paging_btm_prev_5?ie=UTF8&reviewerType=all_reviews&pageNumber='+str(i)\n",
    "    headers = {\"User-Agent\": \"Mozilla/5.0 (Windows NT 10.0; Win64; x64) AppleWebKit/537.36 (KHTML, like Gecko) Chrome/112.0.0.0 Safari/537.36\",\"Accept-Encoding\": \"gzip, deflate, br\",\"Accept\": \"text/html,application/xhtml+xml,application/xml;q=0.9,image/avif,image/webp,image/apng,*/*;q=0.8\",\"Upgrade-Insecure-Requests\": \"1\"}\n",
    "    page = requests.get(url,headers=headers)\n",
    "    soup = BeautifulSoup(page.content,'html.parser')\n",
    "    soup1 = BeautifulSoup(soup.prettify(),'html.parser')\n",
    "    review_links = [review['href'] for review in soup1.findAll('a', attrs={'data-hook': 'review-title'})]\n",
    "    for j in review_links:\n",
    "        review_url = 'http://www.amazon.in/'+j\n",
    "        page = requests.get(review_url,headers=headers)\n",
    "        soups = BeautifulSoup(page.content,'html.parser')\n",
    "        completedict['date'].append(get_date(soups))\n",
    "        completedict['names'].append(get_name(soups))\n",
    "        completedict['location'].append(get_loc(soups))\n",
    "        completedict['reviewtitles'].append(get_reviewtitle(soups))\n",
    "        completedict['ratings'].append(get_ratings(soups))\n",
    "        completedict['reviews'].append(get_review(soups))"
   ]
  },
  {
   "cell_type": "code",
   "execution_count": null,
   "metadata": {},
   "outputs": [],
   "source": [
    "wholedata = pd.DataFrame.from_dict(completedict)\n",
    "wholedata.head(20)"
   ]
  },
  {
   "cell_type": "code",
   "execution_count": null,
   "metadata": {},
   "outputs": [],
   "source": [
    "wholedata.to_csv('amazon_reviews.csv',header=True,index=False)"
   ]
  },
  {
   "cell_type": "raw",
   "metadata": {},
   "source": []
  }
 ],
 "metadata": {
  "kernelspec": {
   "display_name": "Python 3 (ipykernel)",
   "language": "python",
   "name": "python3"
  },
  "language_info": {
   "codemirror_mode": {
    "name": "ipython",
    "version": 3
   },
   "file_extension": ".py",
   "mimetype": "text/x-python",
   "name": "python",
   "nbconvert_exporter": "python",
   "pygments_lexer": "ipython3",
   "version": "3.11.4"
  }
 },
 "nbformat": 4,
 "nbformat_minor": 4
}
