{
 "cells": [
  {
   "cell_type": "code",
   "execution_count": null,
   "id": "2ef20fdd-37c0-4bda-bc97-d17add19af63",
   "metadata": {},
   "outputs": [],
   "source": [
    "!pip install tweepy"
   ]
  },
  {
   "cell_type": "code",
   "execution_count": 1,
   "id": "a6257f0f-41a3-418c-afd7-68007e38e44f",
   "metadata": {},
   "outputs": [
    {
     "ename": "ModuleNotFoundError",
     "evalue": "No module named 'tweepy'",
     "output_type": "error",
     "traceback": [
      "\u001b[1;31m---------------------------------------------------------------------------\u001b[0m",
      "\u001b[1;31mModuleNotFoundError\u001b[0m                       Traceback (most recent call last)",
      "Cell \u001b[1;32mIn[1], line 3\u001b[0m\n\u001b[0;32m      1\u001b[0m \u001b[38;5;66;03m# Importing the libraries\u001b[39;00m\n\u001b[0;32m      2\u001b[0m \u001b[38;5;28;01mimport\u001b[39;00m \u001b[38;5;21;01mconfigparser\u001b[39;00m\n\u001b[1;32m----> 3\u001b[0m \u001b[38;5;28;01mimport\u001b[39;00m \u001b[38;5;21;01mtweepy\u001b[39;00m\n\u001b[0;32m      5\u001b[0m \u001b[38;5;66;03m# Read the config file\u001b[39;00m\n\u001b[0;32m      6\u001b[0m config \u001b[38;5;241m=\u001b[39m configparser\u001b[38;5;241m.\u001b[39mConfigParser()\n",
      "\u001b[1;31mModuleNotFoundError\u001b[0m: No module named 'tweepy'"
     ]
    }
   ],
   "source": [
    "# Importing the libraries\n",
    "import configparser\n",
    "import tweepy\n",
    "\n",
    "# Read the config file\n",
    "config = configparser.ConfigParser()\n",
    "config.read('config.ini')\n",
    "\n",
    "# Read the values\n",
    "api_key = config['twitter']['api_key']\n",
    "api_key_secret = config['twitter']['api_key_secret']\n",
    "access_token = config['twitter']['access_token']\n",
    "access_token_secret = config['twitter']['access_token_secret']"
   ]
  },
  {
   "cell_type": "code",
   "execution_count": null,
   "id": "022823d5-f6b4-42ef-8821-6ca531d6a4eb",
   "metadata": {},
   "outputs": [],
   "source": [
    "# Import Tweepy\n",
    "import tweepy\n",
    "\n",
    "# Authenticate\n",
    "auth = tweepy.OAuthHandler(api_key, api_key_secret)\n",
    "auth.set_access_token(access_token, access_token_secret)\n",
    "api = tweepy.API(auth)"
   ]
  },
  {
   "cell_type": "code",
   "execution_count": null,
   "id": "df4b7f97-b9a3-43a7-82ba-db787a47dd22",
   "metadata": {},
   "outputs": [],
   "source": [
    "# using get_user with id\n",
    "put_your_user_id = \"869660137\"\n",
    "user1 = api.get_user(user_id = put_your_user_id)\n",
    "user1.name\n",
    "# Output: 'QuantInsti'\n",
    "\n",
    "\n",
    "# using get_user with screen_name\n",
    "put_your_screen_name = \"quantinsti\"\n",
    "user2 = api.get_user(screen_name=put_your_screen_name)\n",
    "user2.id\n",
    "# Output: 869660137"
   ]
  },
  {
   "cell_type": "code",
   "execution_count": null,
   "id": "40774251-c17b-4057-9397-3b550d777f96",
   "metadata": {},
   "outputs": [],
   "source": [
    "print(user1.description)\n",
    "# Output: 'You want to be an algorithmic trader? QuantInsti is your go-to resource for all things quant. Jump right in!'\n",
    "\n",
    "print(f'The user {user2.screen_name} was created on {(user2.created_at).strftime(\"%m/%d/%Y, %H:%M:%S\")}')\n",
    "# Output: The user QuantInsti was created on 10/09/2012, 10:48:17"
   ]
  },
  {
   "cell_type": "code",
   "execution_count": null,
   "id": "62cf305d-8aff-4904-ba1f-a68dddb03672",
   "metadata": {},
   "outputs": [],
   "source": [
    "print(f\"The user {user2.screen_name} has {user2.followers_count} followers.\")\n",
    "# Output: The user QuantInsti has 10614 followers."
   ]
  }
 ],
 "metadata": {
  "kernelspec": {
   "display_name": "Python 3 (ipykernel)",
   "language": "python",
   "name": "python3"
  },
  "language_info": {
   "codemirror_mode": {
    "name": "ipython",
    "version": 3
   },
   "file_extension": ".py",
   "mimetype": "text/x-python",
   "name": "python",
   "nbconvert_exporter": "python",
   "pygments_lexer": "ipython3",
   "version": "3.11.4"
  }
 },
 "nbformat": 4,
 "nbformat_minor": 5
}
