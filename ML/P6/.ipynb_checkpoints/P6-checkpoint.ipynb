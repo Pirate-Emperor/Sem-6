{
 "cells": [
  {
   "cell_type": "markdown",
   "id": "5eed72fa-296b-411c-a8b5-563dae04ba1d",
   "metadata": {},
   "source": [
    "# Classification of Handwritten Digits using Artificial Neural Networks"
   ]
  },
  {
   "cell_type": "markdown",
   "id": "424f5edc-1be5-4c0c-81d8-6300ff456e71",
   "metadata": {},
   "source": [
    "## Perform the following steps for above mentioned problem statement:"
   ]
  },
  {
   "cell_type": "markdown",
   "id": "da5a9f99-7b86-4e70-8c91-a18a1371e272",
   "metadata": {},
   "source": [
    "### 1. Search relevant datasets to perform classification"
   ]
  },
  {
   "cell_type": "code",
   "execution_count": 1,
   "id": "19e1f4fb-f479-46bc-8436-931d398ba599",
   "metadata": {},
   "outputs": [],
   "source": [
    "from keras.datasets import mnist\n",
    "(train_images, train_labels), (test_images, test_labels) = mnist.load_data()"
   ]
  },
  {
   "cell_type": "markdown",
   "id": "4d024cef-5131-4fd5-8537-8afc070487ec",
   "metadata": {},
   "source": [
    "### 2. Classify handwritten digits using a simple neural network that has only input and output layers."
   ]
  },
  {
   "cell_type": "code",
   "execution_count": 2,
   "id": "e2f96c24-430b-4d35-823d-c53930a8266e",
   "metadata": {},
   "outputs": [
    {
     "name": "stdout",
     "output_type": "stream",
     "text": [
      "Epoch 1/5\n",
      "1920/1920 [==============================] - 2s 1ms/step - loss: 0.4825 - accuracy: 0.8736 - val_loss: 0.3111 - val_accuracy: 0.9142\n",
      "Epoch 2/5\n",
      "1920/1920 [==============================] - 2s 977us/step - loss: 0.3111 - accuracy: 0.9129 - val_loss: 0.2839 - val_accuracy: 0.9204\n",
      "Epoch 3/5\n",
      "1920/1920 [==============================] - 2s 936us/step - loss: 0.2896 - accuracy: 0.9181 - val_loss: 0.2717 - val_accuracy: 0.9240\n",
      "Epoch 4/5\n",
      "1920/1920 [==============================] - 2s 935us/step - loss: 0.2783 - accuracy: 0.9220 - val_loss: 0.2689 - val_accuracy: 0.9241\n",
      "Epoch 5/5\n",
      "1920/1920 [==============================] - 2s 950us/step - loss: 0.2715 - accuracy: 0.9232 - val_loss: 0.2643 - val_accuracy: 0.9273\n",
      "['loss', 'accuracy']\n",
      "313/313 [==============================] - 0s 715us/step - loss: 0.2690 - accuracy: 0.9244\n"
     ]
    },
    {
     "data": {
      "text/plain": [
       "[0.26897305250167847, 0.9243999719619751]"
      ]
     },
     "execution_count": 2,
     "metadata": {},
     "output_type": "execute_result"
    }
   ],
   "source": [
    "from keras.models import Sequential\n",
    "from keras.layers import Flatten, Dense\n",
    "from keras.utils import to_categorical\n",
    "\n",
    "train_images = train_images.reshape((60000, 28 * 28)).astype('float32') / 255\n",
    "test_images = test_images.reshape((10000, 28 * 28)).astype('float32') / 255\n",
    "train_labels = to_categorical(train_labels)\n",
    "test_labels = to_categorical(test_labels)\n",
    "\n",
    "model = Sequential()\n",
    "model.add(Dense(10, activation='softmax', input_shape=(28 * 28,)))\n",
    "model.compile(optimizer='adam', loss='categorical_crossentropy', metrics=['accuracy'])\n",
    "model.fit(train_images, train_labels, epochs=5, batch_size=25, validation_split=0.2)\n",
    "evaluation = model.evaluate(test_images, test_labels)\n",
    "print(f\"Test Accuracy: {evaluation[1]*100:.2f}%\")\n",
    "print(f\"Test Loss: {evaluation[0]}\")"
   ]
  },
  {
   "cell_type": "markdown",
   "id": "a507758f-bea3-487e-a9bc-8574ebb17d9b",
   "metadata": {},
   "source": [
    "### 3. Add a hidden layer and see how the performance of the model improves."
   ]
  },
  {
   "cell_type": "code",
   "execution_count": 3,
   "id": "92981adb-6e77-400f-93b8-167e1b158b52",
   "metadata": {},
   "outputs": [
    {
     "name": "stdout",
     "output_type": "stream",
     "text": [
      "Epoch 1/5\n",
      "1920/1920 [==============================] - 3s 1ms/step - loss: 0.2909 - accuracy: 0.9163 - val_loss: 0.1579 - val_accuracy: 0.9551\n",
      "Epoch 2/5\n",
      "1920/1920 [==============================] - 2s 1ms/step - loss: 0.1321 - accuracy: 0.9616 - val_loss: 0.1238 - val_accuracy: 0.9636\n",
      "Epoch 3/5\n",
      "1920/1920 [==============================] - 2s 1ms/step - loss: 0.0907 - accuracy: 0.9727 - val_loss: 0.1015 - val_accuracy: 0.9687\n",
      "Epoch 4/5\n",
      "1920/1920 [==============================] - 2s 1ms/step - loss: 0.0679 - accuracy: 0.9797 - val_loss: 0.0977 - val_accuracy: 0.9717\n",
      "Epoch 5/5\n",
      "1920/1920 [==============================] - 2s 1ms/step - loss: 0.0511 - accuracy: 0.9850 - val_loss: 0.1076 - val_accuracy: 0.9674\n",
      "['loss', 'accuracy']\n",
      "313/313 [==============================] - 0s 836us/step - loss: 0.0971 - accuracy: 0.9685\n"
     ]
    },
    {
     "data": {
      "text/plain": [
       "[0.09712327271699905, 0.968500018119812]"
      ]
     },
     "execution_count": 3,
     "metadata": {},
     "output_type": "execute_result"
    }
   ],
   "source": [
    "model = Sequential()\n",
    "model.add(Dense(100, activation='relu', input_shape=(28 * 28,)))\n",
    "model.add(Dense(10, activation='softmax'))\n",
    "model.compile(optimizer='adam', loss='categorical_crossentropy', metrics=['accuracy'])\n",
    "model.fit(train_images, train_labels, epochs=5, batch_size=25, validation_split=0.2)\n",
    "evaluation = model.evaluate(test_images, test_labels)\n",
    "print(f\"Test Accuracy: {evaluation[1]*100:.2f}%\")\n",
    "print(f\"Test Loss: {evaluation[0]}\")"
   ]
  },
  {
   "cell_type": "markdown",
   "id": "79611e32-c30f-4e5c-b45b-32cbfd3fcba8",
   "metadata": {},
   "source": [
    "### 4. Apply various activation functions to hidden and output layers to assess the model performance."
   ]
  },
  {
   "cell_type": "code",
   "execution_count": 4,
   "id": "7f10a11f-0975-4cc9-a21b-2cfa070ab085",
   "metadata": {},
   "outputs": [
    {
     "name": "stdout",
     "output_type": "stream",
     "text": [
      "Epoch 1/5\n",
      "1920/1920 [==============================] - 3s 1ms/step - loss: 0.2839 - accuracy: 0.9183 - val_loss: 0.1636 - val_accuracy: 0.9523\n",
      "Epoch 2/5\n",
      "1920/1920 [==============================] - 2s 1ms/step - loss: 0.1311 - accuracy: 0.9605 - val_loss: 0.1169 - val_accuracy: 0.9667\n",
      "Epoch 3/5\n",
      "1920/1920 [==============================] - 2s 1ms/step - loss: 0.0914 - accuracy: 0.9735 - val_loss: 0.1014 - val_accuracy: 0.9707\n",
      "Epoch 4/5\n",
      "1920/1920 [==============================] - 2s 1ms/step - loss: 0.0690 - accuracy: 0.9790 - val_loss: 0.0943 - val_accuracy: 0.9715\n",
      "Epoch 5/5\n",
      "1920/1920 [==============================] - 2s 1ms/step - loss: 0.0528 - accuracy: 0.9836 - val_loss: 0.0955 - val_accuracy: 0.9703\n",
      "['loss', 'accuracy']\n",
      "313/313 [==============================] - 0s 838us/step - loss: 0.0906 - accuracy: 0.9715\n",
      "Epoch 1/5\n",
      "1920/1920 [==============================] - 3s 1ms/step - loss: 8.0073 - accuracy: 0.1218 - val_loss: 7.4439 - val_accuracy: 0.1123\n",
      "Epoch 2/5\n",
      "1920/1920 [==============================] - 2s 1ms/step - loss: 7.4829 - accuracy: 0.1192 - val_loss: 7.9664 - val_accuracy: 0.1252\n",
      "Epoch 3/5\n",
      "1920/1920 [==============================] - 2s 1ms/step - loss: 7.9170 - accuracy: 0.1266 - val_loss: 7.9664 - val_accuracy: 0.1252\n",
      "Epoch 4/5\n",
      "1920/1920 [==============================] - 2s 1ms/step - loss: 7.9170 - accuracy: 0.1266 - val_loss: 7.9664 - val_accuracy: 0.1252\n",
      "Epoch 5/5\n",
      "1920/1920 [==============================] - 2s 1ms/step - loss: 7.9170 - accuracy: 0.1266 - val_loss: 7.9664 - val_accuracy: 0.1252\n",
      "['loss', 'accuracy']\n",
      "313/313 [==============================] - 0s 836us/step - loss: 7.8640 - accuracy: 0.1300\n",
      "Epoch 1/5\n",
      "1920/1920 [==============================] - 3s 1ms/step - loss: nan - accuracy: 0.1140 - val_loss: nan - val_accuracy: 0.0995\n",
      "Epoch 2/5\n",
      "1920/1920 [==============================] - 3s 1ms/step - loss: nan - accuracy: 0.0985 - val_loss: nan - val_accuracy: 0.0995\n",
      "Epoch 3/5\n",
      "1920/1920 [==============================] - 2s 1ms/step - loss: nan - accuracy: 0.0985 - val_loss: nan - val_accuracy: 0.0995\n",
      "Epoch 4/5\n",
      "1920/1920 [==============================] - 3s 1ms/step - loss: nan - accuracy: 0.0985 - val_loss: nan - val_accuracy: 0.0995\n",
      "Epoch 5/5\n",
      "1920/1920 [==============================] - 2s 1ms/step - loss: nan - accuracy: 0.0985 - val_loss: nan - val_accuracy: 0.0995\n",
      "['loss', 'accuracy']\n",
      "313/313 [==============================] - 0s 838us/step - loss: nan - accuracy: 0.0980\n"
     ]
    }
   ],
   "source": [
    "activation_functions = ['sigmoid', 'tanh', 'relu']\n",
    "for activation_function in activation_functions:\n",
    "    model = Sequential()\n",
    "    model.add(Dense(100, activation='relu', input_shape=(28 * 28,)))\n",
    "    model.add(Dense(10, activation= activation_function))  # Experiment with other activations like 'tanh'\n",
    "    model.compile(optimizer='adam', loss='categorical_crossentropy', metrics=['accuracy'])\n",
    "    model.fit(train_images, train_labels, epochs=5, batch_size=25, validation_split=0.2)\n",
    "    evaluation = model.evaluate(test_images, test_labels)\n",
    "    print(f\"Test Accuracy: {evaluation[1]*100:.2f}%\")\n",
    "    print(f\"Test Loss: {evaluation[0]}\")"
   ]
  },
  {
   "cell_type": "markdown",
   "id": "f6f10d33-5faf-4921-b68a-e171dcc2e2ac",
   "metadata": {},
   "source": [
    "### 5. Apply various cost functions to measure the error of the model."
   ]
  },
  {
   "cell_type": "code",
   "execution_count": 5,
   "id": "522715fd-24ce-4330-9aca-d60ae4ad597a",
   "metadata": {},
   "outputs": [
    {
     "name": "stdout",
     "output_type": "stream",
     "text": [
      "\n",
      "Using mean_squared_error as loss function:\n",
      "Epoch 1/5\n",
      "1920/1920 [==============================] - 3s 1ms/step - loss: nan - accuracy: 0.0985 - val_loss: nan - val_accuracy: 0.0995\n",
      "Epoch 2/5\n",
      "1920/1920 [==============================] - 2s 1ms/step - loss: nan - accuracy: 0.0985 - val_loss: nan - val_accuracy: 0.0995\n",
      "Epoch 3/5\n",
      "1920/1920 [==============================] - 2s 1ms/step - loss: nan - accuracy: 0.0985 - val_loss: nan - val_accuracy: 0.0995\n",
      "Epoch 4/5\n",
      "1920/1920 [==============================] - 2s 1ms/step - loss: nan - accuracy: 0.0985 - val_loss: nan - val_accuracy: 0.0995\n",
      "Epoch 5/5\n",
      "1920/1920 [==============================] - 2s 1ms/step - loss: nan - accuracy: 0.0985 - val_loss: nan - val_accuracy: 0.0995\n",
      "Metric Names: ['loss', 'accuracy']\n",
      "313/313 [==============================] - 0s 823us/step - loss: nan - accuracy: 0.0980\n",
      "Test Accuracy: 9.80%\n",
      "\n",
      "Using categorical_crossentropy as loss function:\n",
      "Epoch 1/5\n",
      "1920/1920 [==============================] - 3s 1ms/step - loss: nan - accuracy: 0.0985 - val_loss: nan - val_accuracy: 0.0995\n",
      "Epoch 2/5\n",
      "1920/1920 [==============================] - 3s 1ms/step - loss: nan - accuracy: 0.0985 - val_loss: nan - val_accuracy: 0.0995\n",
      "Epoch 3/5\n",
      "1920/1920 [==============================] - 3s 1ms/step - loss: nan - accuracy: 0.0985 - val_loss: nan - val_accuracy: 0.0995\n",
      "Epoch 4/5\n",
      "1920/1920 [==============================] - 3s 1ms/step - loss: nan - accuracy: 0.0985 - val_loss: nan - val_accuracy: 0.0995\n",
      "Epoch 5/5\n",
      "1920/1920 [==============================] - 3s 1ms/step - loss: nan - accuracy: 0.0985 - val_loss: nan - val_accuracy: 0.0995\n",
      "Metric Names: ['loss', 'accuracy']\n",
      "313/313 [==============================] - 0s 844us/step - loss: nan - accuracy: 0.0980\n",
      "Test Accuracy: 9.80%\n",
      "\n",
      "Using binary_crossentropy as loss function:\n",
      "Epoch 1/5\n",
      "1920/1920 [==============================] - 3s 1ms/step - loss: nan - accuracy: 0.0985 - val_loss: nan - val_accuracy: 0.0995\n",
      "Epoch 2/5\n",
      "1920/1920 [==============================] - 3s 1ms/step - loss: nan - accuracy: 0.0985 - val_loss: nan - val_accuracy: 0.0995\n",
      "Epoch 3/5\n",
      "1920/1920 [==============================] - 3s 1ms/step - loss: nan - accuracy: 0.0985 - val_loss: nan - val_accuracy: 0.0995\n",
      "Epoch 4/5\n",
      "1920/1920 [==============================] - 2s 1ms/step - loss: nan - accuracy: 0.0985 - val_loss: nan - val_accuracy: 0.0995\n",
      "Epoch 5/5\n",
      "1920/1920 [==============================] - 2s 1ms/step - loss: nan - accuracy: 0.0985 - val_loss: nan - val_accuracy: 0.0995\n",
      "Metric Names: ['loss', 'accuracy']\n",
      "313/313 [==============================] - 0s 855us/step - loss: nan - accuracy: 0.0980\n",
      "Test Accuracy: 9.80%\n",
      "\n",
      "Using poisson as loss function:\n",
      "Epoch 1/5\n",
      "1920/1920 [==============================] - 3s 1ms/step - loss: nan - accuracy: 0.0985 - val_loss: nan - val_accuracy: 0.0995\n",
      "Epoch 2/5\n",
      "1920/1920 [==============================] - 2s 1ms/step - loss: nan - accuracy: 0.0985 - val_loss: nan - val_accuracy: 0.0995\n",
      "Epoch 3/5\n",
      "1920/1920 [==============================] - 2s 1ms/step - loss: nan - accuracy: 0.0985 - val_loss: nan - val_accuracy: 0.0995\n",
      "Epoch 4/5\n",
      "1920/1920 [==============================] - 2s 1ms/step - loss: nan - accuracy: 0.0985 - val_loss: nan - val_accuracy: 0.0995\n",
      "Epoch 5/5\n",
      "1920/1920 [==============================] - 2s 1ms/step - loss: nan - accuracy: 0.0985 - val_loss: nan - val_accuracy: 0.0995\n",
      "Metric Names: ['loss', 'accuracy']\n",
      "313/313 [==============================] - 0s 855us/step - loss: nan - accuracy: 0.0980\n",
      "Test Accuracy: 9.80%\n"
     ]
    }
   ],
   "source": [
    "loss_functions = ['mean_squared_error', 'categorical_crossentropy', 'binary_crossentropy', 'poisson']\n",
    "for loss_function in loss_functions:\n",
    "    print(f\"\\nUsing {loss_function} as loss function:\")\n",
    "    model.compile(optimizer='adam', loss=loss_function, metrics=['accuracy'])\n",
    "    model.fit(train_images, train_labels, epochs=5, batch_size=25, validation_split=0.2)\n",
    "    evaluation = model.evaluate(test_images, test_labels)\n",
    "    print(f\"Test Accuracy: {evaluation[1]*100:.2f}%\")\n",
    "    print(f\"Test Loss: {evaluation[0]}\")"
   ]
  }
 ],
 "metadata": {
  "kernelspec": {
   "display_name": "Python 3 (ipykernel)",
   "language": "python",
   "name": "python3"
  },
  "language_info": {
   "codemirror_mode": {
    "name": "ipython",
    "version": 3
   },
   "file_extension": ".py",
   "mimetype": "text/x-python",
   "name": "python",
   "nbconvert_exporter": "python",
   "pygments_lexer": "ipython3",
   "version": "3.11.4"
  }
 },
 "nbformat": 4,
 "nbformat_minor": 5
}
