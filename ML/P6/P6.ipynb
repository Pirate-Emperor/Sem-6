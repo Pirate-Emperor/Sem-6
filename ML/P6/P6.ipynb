{
 "cells": [
  {
   "cell_type": "markdown",
   "id": "5eed72fa-296b-411c-a8b5-563dae04ba1d",
   "metadata": {},
   "source": [
    "# Classification of Handwritten Digits using Artificial Neural Networks"
   ]
  },
  {
   "cell_type": "markdown",
   "id": "424f5edc-1be5-4c0c-81d8-6300ff456e71",
   "metadata": {},
   "source": [
    "## Perform the following steps for above mentioned problem statement:"
   ]
  },
  {
   "cell_type": "markdown",
   "id": "da5a9f99-7b86-4e70-8c91-a18a1371e272",
   "metadata": {},
   "source": [
    "### 1. Search relevant datasets to perform classification"
   ]
  },
  {
   "cell_type": "code",
   "execution_count": 1,
   "id": "19e1f4fb-f479-46bc-8436-931d398ba599",
   "metadata": {},
   "outputs": [],
   "source": [
    "from keras.datasets import mnist\n",
    "(train_images, train_labels), (test_images, test_labels) = mnist.load_data()"
   ]
  },
  {
   "cell_type": "code",
   "execution_count": 2,
   "id": "0bb3a860-7352-44d3-862c-0852793a4aa4",
   "metadata": {},
   "outputs": [
    {
     "name": "stdout",
     "output_type": "stream",
     "text": [
      "[[[0 0 0 ... 0 0 0]\n",
      "  [0 0 0 ... 0 0 0]\n",
      "  [0 0 0 ... 0 0 0]\n",
      "  ...\n",
      "  [0 0 0 ... 0 0 0]\n",
      "  [0 0 0 ... 0 0 0]\n",
      "  [0 0 0 ... 0 0 0]]\n",
      "\n",
      " [[0 0 0 ... 0 0 0]\n",
      "  [0 0 0 ... 0 0 0]\n",
      "  [0 0 0 ... 0 0 0]\n",
      "  ...\n",
      "  [0 0 0 ... 0 0 0]\n",
      "  [0 0 0 ... 0 0 0]\n",
      "  [0 0 0 ... 0 0 0]]\n",
      "\n",
      " [[0 0 0 ... 0 0 0]\n",
      "  [0 0 0 ... 0 0 0]\n",
      "  [0 0 0 ... 0 0 0]\n",
      "  ...\n",
      "  [0 0 0 ... 0 0 0]\n",
      "  [0 0 0 ... 0 0 0]\n",
      "  [0 0 0 ... 0 0 0]]\n",
      "\n",
      " ...\n",
      "\n",
      " [[0 0 0 ... 0 0 0]\n",
      "  [0 0 0 ... 0 0 0]\n",
      "  [0 0 0 ... 0 0 0]\n",
      "  ...\n",
      "  [0 0 0 ... 0 0 0]\n",
      "  [0 0 0 ... 0 0 0]\n",
      "  [0 0 0 ... 0 0 0]]\n",
      "\n",
      " [[0 0 0 ... 0 0 0]\n",
      "  [0 0 0 ... 0 0 0]\n",
      "  [0 0 0 ... 0 0 0]\n",
      "  ...\n",
      "  [0 0 0 ... 0 0 0]\n",
      "  [0 0 0 ... 0 0 0]\n",
      "  [0 0 0 ... 0 0 0]]\n",
      "\n",
      " [[0 0 0 ... 0 0 0]\n",
      "  [0 0 0 ... 0 0 0]\n",
      "  [0 0 0 ... 0 0 0]\n",
      "  ...\n",
      "  [0 0 0 ... 0 0 0]\n",
      "  [0 0 0 ... 0 0 0]\n",
      "  [0 0 0 ... 0 0 0]]]\n"
     ]
    }
   ],
   "source": [
    "print(test_images)"
   ]
  },
  {
   "cell_type": "code",
   "execution_count": 3,
   "id": "987ea212-51b7-4fab-bb04-39c03dcc9d80",
   "metadata": {},
   "outputs": [
    {
     "name": "stdout",
     "output_type": "stream",
     "text": [
      "[7 2 1 ... 4 5 6]\n"
     ]
    }
   ],
   "source": [
    "print(test_labels)"
   ]
  },
  {
   "cell_type": "markdown",
   "id": "4d024cef-5131-4fd5-8537-8afc070487ec",
   "metadata": {},
   "source": [
    "### 2. Classify handwritten digits using a simple neural network that has only input and output layers."
   ]
  },
  {
   "cell_type": "code",
   "execution_count": 4,
   "id": "e2f96c24-430b-4d35-823d-c53930a8266e",
   "metadata": {},
   "outputs": [
    {
     "name": "stdout",
     "output_type": "stream",
     "text": [
      "Epoch 1/5\n",
      "1920/1920 [==============================] - 5s 2ms/step - loss: 0.4900 - accuracy: 0.8708 - val_loss: 0.3117 - val_accuracy: 0.9136\n",
      "Epoch 2/5\n",
      "1920/1920 [==============================] - 4s 2ms/step - loss: 0.3123 - accuracy: 0.9124 - val_loss: 0.2827 - val_accuracy: 0.9218\n",
      "Epoch 3/5\n",
      "1920/1920 [==============================] - 4s 2ms/step - loss: 0.2901 - accuracy: 0.9195 - val_loss: 0.2725 - val_accuracy: 0.9252\n",
      "Epoch 4/5\n",
      "1920/1920 [==============================] - 4s 2ms/step - loss: 0.2793 - accuracy: 0.9212 - val_loss: 0.2707 - val_accuracy: 0.9251\n",
      "Epoch 5/5\n",
      "1920/1920 [==============================] - 4s 2ms/step - loss: 0.2715 - accuracy: 0.9238 - val_loss: 0.2671 - val_accuracy: 0.9271\n",
      "313/313 [==============================] - 1s 2ms/step - loss: 0.2723 - accuracy: 0.9247\n",
      "Test Accuracy: 92.47%\n",
      "Test Loss: 0.27226367592811584\n"
     ]
    }
   ],
   "source": [
    "from keras.models import Sequential\n",
    "from keras.layers import Flatten, Dense\n",
    "from keras.utils import to_categorical\n",
    "\n",
    "train_images = train_images.reshape((60000, 28 * 28)).astype('float32') / 255\n",
    "test_images = test_images.reshape((10000, 28 * 28)).astype('float32') / 255\n",
    "train_labels = to_categorical(train_labels)\n",
    "test_labels = to_categorical(test_labels)\n",
    "\n",
    "model = Sequential()\n",
    "model.add(Dense(10, activation='softmax', input_shape=(28 * 28,)))\n",
    "model.compile(optimizer='adam', loss='categorical_crossentropy', metrics=['accuracy'])\n",
    "model.fit(train_images, train_labels, epochs=5, batch_size=25, validation_split=0.2)\n",
    "evaluation = model.evaluate(test_images, test_labels)\n",
    "print(f\"Test Accuracy: {evaluation[1]*100:.2f}%\")\n",
    "print(f\"Test Loss: {evaluation[0]}\")"
   ]
  },
  {
   "cell_type": "markdown",
   "id": "a507758f-bea3-487e-a9bc-8574ebb17d9b",
   "metadata": {},
   "source": [
    "### 3. Add a hidden layer and see how the performance of the model improves."
   ]
  },
  {
   "cell_type": "code",
   "execution_count": 5,
   "id": "92981adb-6e77-400f-93b8-167e1b158b52",
   "metadata": {},
   "outputs": [
    {
     "name": "stdout",
     "output_type": "stream",
     "text": [
      "Epoch 1/5\n",
      "1920/1920 [==============================] - 6s 3ms/step - loss: 0.2846 - accuracy: 0.9184 - val_loss: 0.1614 - val_accuracy: 0.9546\n",
      "Epoch 2/5\n",
      "1920/1920 [==============================] - 5s 3ms/step - loss: 0.1313 - accuracy: 0.9611 - val_loss: 0.1154 - val_accuracy: 0.9662\n",
      "Epoch 3/5\n",
      "1920/1920 [==============================] - 5s 3ms/step - loss: 0.0910 - accuracy: 0.9724 - val_loss: 0.1094 - val_accuracy: 0.9664\n",
      "Epoch 4/5\n",
      "1920/1920 [==============================] - 5s 3ms/step - loss: 0.0686 - accuracy: 0.9789 - val_loss: 0.0931 - val_accuracy: 0.9728\n",
      "Epoch 5/5\n",
      "1920/1920 [==============================] - 5s 3ms/step - loss: 0.0541 - accuracy: 0.9834 - val_loss: 0.0902 - val_accuracy: 0.9736\n",
      "313/313 [==============================] - 1s 2ms/step - loss: 0.0826 - accuracy: 0.9757\n",
      "Test Accuracy: 97.57%\n",
      "Test Loss: 0.08260300010442734\n"
     ]
    }
   ],
   "source": [
    "model = Sequential()\n",
    "model.add(Dense(100, activation='relu', input_shape=(28 * 28,)))\n",
    "model.add(Dense(10, activation='softmax'))\n",
    "model.compile(optimizer='adam', loss='categorical_crossentropy', metrics=['accuracy'])\n",
    "model.fit(train_images, train_labels, epochs=5, batch_size=25, validation_split=0.2)\n",
    "evaluation = model.evaluate(test_images, test_labels)\n",
    "print(f\"Test Accuracy: {evaluation[1]*100:.2f}%\")\n",
    "print(f\"Test Loss: {evaluation[0]}\")"
   ]
  },
  {
   "cell_type": "markdown",
   "id": "79611e32-c30f-4e5c-b45b-32cbfd3fcba8",
   "metadata": {},
   "source": [
    "### 4. Apply various activation functions to hidden and output layers to assess the model performance."
   ]
  },
  {
   "cell_type": "code",
   "execution_count": 7,
   "id": "7f10a11f-0975-4cc9-a21b-2cfa070ab085",
   "metadata": {},
   "outputs": [
    {
     "name": "stdout",
     "output_type": "stream",
     "text": [
      "Epoch 1/5\n",
      "1920/1920 [==============================] - 6s 3ms/step - loss: 0.2807 - accuracy: 0.9194 - val_loss: 0.1541 - val_accuracy: 0.9559\n",
      "Epoch 2/5\n",
      "1920/1920 [==============================] - 5s 3ms/step - loss: 0.1243 - accuracy: 0.9641 - val_loss: 0.1128 - val_accuracy: 0.9663\n",
      "Epoch 3/5\n",
      "1920/1920 [==============================] - 5s 3ms/step - loss: 0.0871 - accuracy: 0.9737 - val_loss: 0.1082 - val_accuracy: 0.9693\n",
      "Epoch 4/5\n",
      "1920/1920 [==============================] - 5s 3ms/step - loss: 0.0666 - accuracy: 0.9796 - val_loss: 0.0977 - val_accuracy: 0.9722\n",
      "Epoch 5/5\n",
      "1920/1920 [==============================] - 5s 3ms/step - loss: 0.0520 - accuracy: 0.9836 - val_loss: 0.0902 - val_accuracy: 0.9732\n",
      "313/313 [==============================] - 1s 2ms/step - loss: 0.0754 - accuracy: 0.9766\n",
      "Test Accuracy with sigmoid: 97.66%\n",
      "Test Loss with sigmoid: 0.07542455196380615\n",
      "Epoch 1/5\n",
      "1920/1920 [==============================] - 6s 3ms/step - loss: 7.7446 - accuracy: 0.1665 - val_loss: 6.9671 - val_accuracy: 0.1273\n",
      "Epoch 2/5\n",
      "1920/1920 [==============================] - 5s 3ms/step - loss: nan - accuracy: 0.1275 - val_loss: nan - val_accuracy: 0.0995\n",
      "Epoch 3/5\n",
      "1920/1920 [==============================] - 5s 3ms/step - loss: nan - accuracy: 0.0985 - val_loss: nan - val_accuracy: 0.0995\n",
      "Epoch 4/5\n",
      "1920/1920 [==============================] - 5s 3ms/step - loss: nan - accuracy: 0.0985 - val_loss: nan - val_accuracy: 0.0995\n",
      "Epoch 5/5\n",
      "1920/1920 [==============================] - 5s 3ms/step - loss: nan - accuracy: 0.0985 - val_loss: nan - val_accuracy: 0.0995\n",
      "313/313 [==============================] - 1s 2ms/step - loss: nan - accuracy: 0.0980\n",
      "Test Accuracy with tanh: 9.80%\n",
      "Test Loss with tanh: nan\n",
      "Epoch 1/5\n",
      "1920/1920 [==============================] - 6s 3ms/step - loss: nan - accuracy: 0.1042 - val_loss: nan - val_accuracy: 0.0995\n",
      "Epoch 2/5\n",
      "1920/1920 [==============================] - 5s 3ms/step - loss: nan - accuracy: 0.0985 - val_loss: nan - val_accuracy: 0.0995\n",
      "Epoch 3/5\n",
      "1920/1920 [==============================] - 5s 3ms/step - loss: nan - accuracy: 0.0985 - val_loss: nan - val_accuracy: 0.0995\n",
      "Epoch 4/5\n",
      "1920/1920 [==============================] - 5s 3ms/step - loss: nan - accuracy: 0.0985 - val_loss: nan - val_accuracy: 0.0995\n",
      "Epoch 5/5\n",
      "1920/1920 [==============================] - 6s 3ms/step - loss: nan - accuracy: 0.0985 - val_loss: nan - val_accuracy: 0.0995\n",
      "313/313 [==============================] - 1s 2ms/step - loss: nan - accuracy: 0.0980\n",
      "Test Accuracy with relu: 9.80%\n",
      "Test Loss with relu: nan\n"
     ]
    }
   ],
   "source": [
    "activation_functions = ['sigmoid', 'tanh', 'relu']\n",
    "for activation_function in activation_functions:\n",
    "    model = Sequential()\n",
    "    model.add(Dense(100, activation='relu', input_shape=(28 * 28,)))\n",
    "    model.add(Dense(10, activation= activation_function))\n",
    "    model.compile(optimizer='adam', loss='categorical_crossentropy', metrics=['accuracy'])\n",
    "    model.fit(train_images, train_labels, epochs=5, batch_size=25, validation_split=0.2)\n",
    "    evaluation = model.evaluate(test_images, test_labels)\n",
    "    print(f\"Test Accuracy with {activation_function}: {evaluation[1]*100:.2f}%\")\n",
    "    print(f\"Test Loss with {activation_function}: {evaluation[0]}\")"
   ]
  },
  {
   "cell_type": "markdown",
   "id": "f6f10d33-5faf-4921-b68a-e171dcc2e2ac",
   "metadata": {},
   "source": [
    "### 5. Apply various cost functions to measure the error of the model."
   ]
  },
  {
   "cell_type": "code",
   "execution_count": 8,
   "id": "522715fd-24ce-4330-9aca-d60ae4ad597a",
   "metadata": {},
   "outputs": [
    {
     "name": "stdout",
     "output_type": "stream",
     "text": [
      "\n",
      "Using mean_squared_error as loss function:\n",
      "Epoch 1/5\n",
      "1920/1920 [==============================] - 6s 3ms/step - loss: 0.0133 - accuracy: 0.9137 - val_loss: 0.0072 - val_accuracy: 0.9558\n",
      "Epoch 2/5\n",
      "1920/1920 [==============================] - 5s 3ms/step - loss: 0.0066 - accuracy: 0.9579 - val_loss: 0.0058 - val_accuracy: 0.9645\n",
      "Epoch 3/5\n",
      "1920/1920 [==============================] - 5s 3ms/step - loss: 0.0048 - accuracy: 0.9701 - val_loss: 0.0051 - val_accuracy: 0.9667\n",
      "Epoch 4/5\n",
      "1920/1920 [==============================] - 5s 3ms/step - loss: 0.0038 - accuracy: 0.9769 - val_loss: 0.0047 - val_accuracy: 0.9694\n",
      "Epoch 5/5\n",
      "1920/1920 [==============================] - 5s 3ms/step - loss: 0.0031 - accuracy: 0.9813 - val_loss: 0.0047 - val_accuracy: 0.9698\n",
      "313/313 [==============================] - 1s 2ms/step - loss: 0.0044 - accuracy: 0.9720\n",
      "Test Accuracy with mean_squared_error: 97.20%\n",
      "Test Loss with mean_squared_error: 0.004385668784379959\n",
      "\n",
      "Using categorical_crossentropy as loss function:\n",
      "Epoch 1/5\n",
      "1920/1920 [==============================] - 6s 3ms/step - loss: 0.0668 - accuracy: 0.9844 - val_loss: 0.0942 - val_accuracy: 0.9723\n",
      "Epoch 2/5\n",
      "1920/1920 [==============================] - 5s 3ms/step - loss: 0.0475 - accuracy: 0.9872 - val_loss: 0.0893 - val_accuracy: 0.9731\n",
      "Epoch 3/5\n",
      "1920/1920 [==============================] - 5s 3ms/step - loss: 0.0369 - accuracy: 0.9899 - val_loss: 0.0899 - val_accuracy: 0.9753\n",
      "Epoch 4/5\n",
      "1920/1920 [==============================] - 5s 3ms/step - loss: 0.0296 - accuracy: 0.9916 - val_loss: 0.0858 - val_accuracy: 0.9768\n",
      "Epoch 5/5\n",
      "1920/1920 [==============================] - 5s 3ms/step - loss: 0.0230 - accuracy: 0.9932 - val_loss: 0.0905 - val_accuracy: 0.9761\n",
      "313/313 [==============================] - 1s 2ms/step - loss: 0.0768 - accuracy: 0.9777\n",
      "Test Accuracy with categorical_crossentropy: 97.77%\n",
      "Test Loss with categorical_crossentropy: 0.07678196579217911\n",
      "\n",
      "Using binary_crossentropy as loss function:\n",
      "Epoch 1/5\n",
      "1920/1920 [==============================] - 6s 3ms/step - loss: 0.0136 - accuracy: 0.9931 - val_loss: 0.0196 - val_accuracy: 0.9765\n",
      "Epoch 2/5\n",
      "1920/1920 [==============================] - 5s 3ms/step - loss: 0.0088 - accuracy: 0.9932 - val_loss: 0.0187 - val_accuracy: 0.9780\n",
      "Epoch 3/5\n",
      "1920/1920 [==============================] - 5s 3ms/step - loss: 0.0074 - accuracy: 0.9945 - val_loss: 0.0192 - val_accuracy: 0.9784\n",
      "Epoch 4/5\n",
      "1920/1920 [==============================] - 5s 3ms/step - loss: 0.0061 - accuracy: 0.9955 - val_loss: 0.0192 - val_accuracy: 0.9778\n",
      "Epoch 5/5\n",
      "1920/1920 [==============================] - 6s 3ms/step - loss: 0.0051 - accuracy: 0.9964 - val_loss: 0.0187 - val_accuracy: 0.9794\n",
      "313/313 [==============================] - 1s 2ms/step - loss: 0.0172 - accuracy: 0.9804\n",
      "Test Accuracy with binary_crossentropy: 98.04%\n",
      "Test Loss with binary_crossentropy: 0.017176324501633644\n",
      "\n",
      "Using poisson as loss function:\n",
      "Epoch 1/5\n",
      "1920/1920 [==============================] - 6s 3ms/step - loss: 0.1013 - accuracy: 0.9955 - val_loss: 0.1114 - val_accuracy: 0.9762\n",
      "Epoch 2/5\n",
      "1920/1920 [==============================] - 5s 3ms/step - loss: 0.1010 - accuracy: 0.9966 - val_loss: 0.1113 - val_accuracy: 0.9760\n",
      "Epoch 3/5\n",
      "1920/1920 [==============================] - 6s 3ms/step - loss: 0.1008 - accuracy: 0.9974 - val_loss: 0.1115 - val_accuracy: 0.9759\n",
      "Epoch 4/5\n",
      "1920/1920 [==============================] - 5s 3ms/step - loss: 0.1008 - accuracy: 0.9974 - val_loss: 0.1116 - val_accuracy: 0.9775\n",
      "Epoch 5/5\n",
      "1920/1920 [==============================] - 5s 3ms/step - loss: 0.1006 - accuracy: 0.9981 - val_loss: 0.1122 - val_accuracy: 0.9761\n",
      "313/313 [==============================] - 1s 2ms/step - loss: 0.1101 - accuracy: 0.9785\n",
      "Test Accuracy with poisson: 97.85%\n",
      "Test Loss with poisson: 0.11014503240585327\n"
     ]
    }
   ],
   "source": [
    "loss_functions = ['mean_squared_error', 'categorical_crossentropy', 'binary_crossentropy', 'poisson']\n",
    "model = Sequential()\n",
    "model.add(Dense(100, activation='relu', input_shape=(28 * 28,)))\n",
    "model.add(Dense(10, activation='softmax'))\n",
    "for loss_function in loss_functions:\n",
    "    print(f\"\\nUsing {loss_function} as loss function:\")\n",
    "    model.compile(optimizer='adam', loss=loss_function, metrics=['accuracy'])\n",
    "    model.fit(train_images, train_labels, epochs=5, batch_size=25, validation_split=0.2)\n",
    "    evaluation = model.evaluate(test_images, test_labels)\n",
    "    print(f\"Test Accuracy with {loss_function}: {evaluation[1]*100:.2f}%\")\n",
    "    print(f\"Test Loss with {loss_function}: {evaluation[0]}\")"
   ]
  },
  {
   "cell_type": "code",
   "execution_count": null,
   "id": "8216db0d-ec90-4d34-aef4-c619e2e4dd76",
   "metadata": {},
   "outputs": [],
   "source": []
  }
 ],
 "metadata": {
  "kernelspec": {
   "display_name": "Python 3 (ipykernel)",
   "language": "python",
   "name": "python3"
  },
  "language_info": {
   "codemirror_mode": {
    "name": "ipython",
    "version": 3
   },
   "file_extension": ".py",
   "mimetype": "text/x-python",
   "name": "python",
   "nbconvert_exporter": "python",
   "pygments_lexer": "ipython3",
   "version": "3.11.4"
  }
 },
 "nbformat": 4,
 "nbformat_minor": 5
}
