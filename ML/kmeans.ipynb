{
 "cells": [
  {
   "cell_type": "code",
   "execution_count": null,
   "metadata": {},
   "outputs": [],
   "source": [
    "# Without Library\n",
    "import numpy as np\n",
    "\n",
    "class KMeansCustom:\n",
    "    def __init__(self, n_clusters, max_iters=100):\n",
    "        self.n_clusters = n_clusters\n",
    "        self.max_iters = max_iters\n",
    "\n",
    "    def fit(self, X):\n",
    "        # Randomly initialize centroids\n",
    "        centroids_indices = np.random.choice(X.shape[0], self.n_clusters, replace=False)\n",
    "        centroids = X[centroids_indices]\n",
    "\n",
    "        for _ in range(self.max_iters):\n",
    "            # Assign each data point to the closest centroid\n",
    "            labels = np.argmin(np.linalg.norm(X[:, np.newaxis] - centroids, axis=2), axis=1)\n",
    "\n",
    "            # Update centroids\n",
    "            new_centroids = np.array([X[labels == k].mean(axis=0) for k in range(self.n_clusters)])\n",
    "\n",
    "            # Check for convergence\n",
    "            if np.allclose(centroids, new_centroids):\n",
    "                break\n",
    "\n",
    "            centroids = new_centroids\n",
    "\n",
    "        self.labels_ = labels\n",
    "        self.cluster_centers_ = centroids\n",
    "\n",
    "# Example usage\n",
    "X = np.array([[1, 2], [1, 4], [1, 0],\n",
    "              [10, 2], [10, 4], [10, 0]])\n",
    "kmeans_custom = KMeansCustom(n_clusters=2)\n",
    "kmeans_custom.fit(X)\n",
    "print(\"Custom K-means Centroids:\")\n",
    "print(kmeans_custom.cluster_centers_)\n",
    "print(\"Custom K-means Labels:\")\n",
    "print(kmeans_custom.labels_)\n"
   ]
  },
  {
   "cell_type": "code",
   "execution_count": null,
   "metadata": {},
   "outputs": [],
   "source": [
    "# With Library\n",
    "from sklearn.cluster import KMeans\n",
    "\n",
    "# Example usage\n",
    "kmeans_sklearn = KMeans(n_clusters=2)\n",
    "kmeans_sklearn.fit(X)\n",
    "print(\"\\nSklearn K-means Centroids:\")\n",
    "print(kmeans_sklearn.cluster_centers_)\n",
    "print(\"Sklearn K-means Labels:\")\n",
    "print(kmeans_sklearn.labels_)\n"
   ]
  }
 ],
 "metadata": {
  "language_info": {
   "name": "python"
  }
 },
 "nbformat": 4,
 "nbformat_minor": 2
}
