{
 "cells": [
  {
   "cell_type": "code",
   "execution_count": null,
   "metadata": {},
   "outputs": [],
   "source": [
    "# Without Library\n",
    "import numpy as np\n",
    "class NaiveBayesClassifier:\n",
    "    def __init__(self):\n",
    "        self.class_probs = {}\n",
    "        self.feature_probs = {}\n",
    "\n",
    "    def fit(self, X_train, y_train):\n",
    "        self.classes = np.unique(y_train)\n",
    "        self.class_probs = {c: np.mean(y_train == c) for c in self.classes}\n",
    "        self.feature_probs = {}\n",
    "        for c in self.classes:\n",
    "            X_class = X_train[y_train == c]\n",
    "            self.feature_probs[c] = {\n",
    "                i: (X_class[:, i].sum() + 1) / (len(X_class) + 2) for i in range(X_train.shape[1])\n",
    "            }\n",
    "\n",
    "    def predict(self, X_test):\n",
    "        preds = []\n",
    "        for x in X_test:\n",
    "            probs = {c: np.log(self.class_probs[c]) for c in self.classes}\n",
    "            for c in self.classes:\n",
    "                for i, feature in enumerate(x):\n",
    "                    probs[c] += np.log(self.feature_probs[c].get(i, 1e-6))\n",
    "            preds.append(max(probs, key=probs.get))\n",
    "        return preds\n",
    "\n",
    "# Example usage:\n",
    "X_train = np.array([[1, 1, 0], [0, 1, 1], [1, 0, 1], [0, 0, 0], [1, 1, 1]])\n",
    "y_train = np.array([0, 1, 0, 1, 0])\n",
    "X_test = np.array([[1, 0, 0], [0, 1, 0]])\n",
    "\n",
    "naive_bayes = NaiveBayesClassifier()\n",
    "naive_bayes.fit(X_train, y_train)\n",
    "predictions = naive_bayes.predict(X_test)\n",
    "print(\"Predictions:\", predictions)\n"
   ]
  },
  {
   "cell_type": "code",
   "execution_count": null,
   "metadata": {},
   "outputs": [],
   "source": [
    "# With Library\n",
    "from sklearn.naive_bayes import GaussianNB\n",
    "\n",
    "# Example usage:\n",
    "X_train = [[1, 1, 0], [0, 1, 1], [1, 0, 1], [0, 0, 0], [1, 1, 1]]\n",
    "y_train = [0, 1, 0, 1, 0]\n",
    "X_test = [[1, 0, 0], [0, 1, 0]]\n",
    "\n",
    "naive_bayes_sklearn = GaussianNB()\n",
    "naive_bayes_sklearn.fit(X_train, y_train)\n",
    "predictions_sklearn = naive_bayes_sklearn.predict(X_test)\n",
    "print(\"Predictions (scikit-learn):\", predictions_sklearn)\n"
   ]
  }
 ],
 "metadata": {
  "language_info": {
   "name": "python"
  }
 },
 "nbformat": 4,
 "nbformat_minor": 2
}
