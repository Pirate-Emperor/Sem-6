{
 "cells": [
  {
   "cell_type": "markdown",
   "id": "373f9c95-108d-4b04-972b-2dd145287f2f",
   "metadata": {},
   "source": [
    "# Study of essential text pre-processing techniques. Write python script for the essential text preprocessing techniques. Store the preprocessed data into a separate column of .CSV file. Compare the outcomes with and without using libraries for the same."
   ]
  },
  {
   "cell_type": "markdown",
   "id": "dcc57d62-a729-4995-b767-6bda4809bb8b",
   "metadata": {},
   "source": [
    "## Perform the following task with using inbuilt Python Libraries: "
   ]
  },
  {
   "cell_type": "code",
   "execution_count": null,
   "id": "8c1ccdf7-19ba-4292-bb85-650354a40596",
   "metadata": {},
   "outputs": [],
   "source": [
    "import pandas as pd\n",
    "import nltk\n",
    "from nltk.tokenize import word_tokenize\n",
    "from nltk.corpus import stopwords\n",
    "from nltk.stem import PorterStemmer, WordNetLemmatizer\n",
    "from deep_translator import GoogleTranslator\n",
    "import emoji\n",
    "import string\n",
    "import re"
   ]
  },
  {
   "cell_type": "code",
   "execution_count": null,
   "id": "3db8d3f9-86b2-4a97-bbdb-f53458caad92",
   "metadata": {},
   "outputs": [],
   "source": [
    "nltk.download('stopwords')"
   ]
  },
  {
   "cell_type": "code",
   "execution_count": null,
   "id": "7b4f9981-bb75-49bd-98c6-5f0f84b91027",
   "metadata": {},
   "outputs": [],
   "source": [
    "nltk.download('punkt')"
   ]
  },
  {
   "cell_type": "code",
   "execution_count": null,
   "id": "d8980579-6046-42b7-be74-c77e3eb0c0fd",
   "metadata": {},
   "outputs": [],
   "source": [
    "nltk.download('wordnet')"
   ]
  },
  {
   "cell_type": "code",
   "execution_count": null,
   "id": "9fa1309b-c8a7-4bf9-8e68-fce29aad9211",
   "metadata": {},
   "outputs": [],
   "source": [
    "data = pd.read_csv(\"PTweet_WWE.csv\")\n",
    "data.head()"
   ]
  },
  {
   "cell_type": "code",
   "execution_count": null,
   "id": "a0afd74b-55e7-47ff-bd73-f9dcb53cf4f0",
   "metadata": {},
   "outputs": [],
   "source": [
    "df = pd.DataFrame(data['text'])\n",
    "df.head()"
   ]
  },
  {
   "cell_type": "markdown",
   "id": "6095f5d4-0be2-451e-b9dc-063cde0ea62f",
   "metadata": {},
   "source": [
    "### 1. Lower Casing"
   ]
  },
  {
   "cell_type": "code",
   "execution_count": null,
   "id": "64500919-137a-4eed-86a1-135e3d55e97a",
   "metadata": {},
   "outputs": [],
   "source": [
    "# Task 1: Lowercasing\n",
    "df['lowercased_text'] = df['text'].apply(lambda x: x.lower())\n",
    "df.head()"
   ]
  },
  {
   "cell_type": "markdown",
   "id": "cae1014d-34f6-482c-a7c8-8610a72a840a",
   "metadata": {},
   "source": [
    "### 2. Tokenization"
   ]
  },
  {
   "cell_type": "code",
   "execution_count": null,
   "id": "e92547f7-8f94-4119-ad7d-95fef39329fe",
   "metadata": {},
   "outputs": [],
   "source": [
    "# Task 2: Tokenization\n",
    "# df['tokens'] = df['lowercased_text'].apply(lambda x: re.findall(r'\\b\\w+\\b', x))\n",
    "df['tokens'] = df['lowercased_text'].apply(lambda x: word_tokenize(x))\n",
    "df.head()"
   ]
  },
  {
   "cell_type": "markdown",
   "id": "63974092-be5c-42f7-8569-9226ed3603f1",
   "metadata": {},
   "source": [
    "### 3. Punctuation Mark Removal"
   ]
  },
  {
   "cell_type": "code",
   "execution_count": null,
   "id": "c37ae952-565d-4ade-a104-752553d293fe",
   "metadata": {},
   "outputs": [],
   "source": [
    "# Task 3: Punctuation Mark Removal\n",
    "df['cleaned_text'] = df['tokens'].apply(lambda x: ''.join(char for char in x if char not in string.punctuation))\n",
    "df.head()"
   ]
  },
  {
   "cell_type": "markdown",
   "id": "70966906-0f68-4d1f-81cf-1413cefa01a7",
   "metadata": {},
   "source": [
    "### 4. Stop Word Removal"
   ]
  },
  {
   "cell_type": "code",
   "execution_count": null,
   "id": "d6fe9be7-514b-4bb1-b980-c71120ad21c2",
   "metadata": {},
   "outputs": [],
   "source": [
    "# Task 4: Stop Word Removal\n",
    "stop_words = set(stopwords.words('english'))\n",
    "df['filtered_text'] = df['tokens'].apply(lambda x: ' '.join(word for word in x if word not in stop_words))\n",
    "df.head()"
   ]
  },
  {
   "cell_type": "markdown",
   "id": "3ce0d28e-2d68-495f-a3d0-fe677e00c846",
   "metadata": {},
   "source": [
    "### 5. Stemming"
   ]
  },
  {
   "cell_type": "code",
   "execution_count": null,
   "id": "5306636d-f70a-4e96-87ac-123fd0bb9cd2",
   "metadata": {},
   "outputs": [],
   "source": [
    "# Task 5: Stemming\n",
    "stemmer = PorterStemmer()\n",
    "df['stemmed_Text'] = df['tokens'].apply(lambda x: ' '.join(stemmer.stem(word) for word in x))\n",
    "df.head()"
   ]
  },
  {
   "cell_type": "markdown",
   "id": "7c3da5af-9381-4c24-be2f-658364af6ccc",
   "metadata": {},
   "source": [
    "### 6. Lemmatization"
   ]
  },
  {
   "cell_type": "code",
   "execution_count": null,
   "id": "c984f6fd-b11f-4d1e-aa07-45e828bbc742",
   "metadata": {},
   "outputs": [],
   "source": [
    "# Task 6: Lemmatization\n",
    "lemmatizer = WordNetLemmatizer()\n",
    "df['lemmatized_text'] = df['tokens'].apply(lambda x: ' '.join(lemmatizer.lemmatize(word) for word in x))\n",
    "df.head()"
   ]
  },
  {
   "cell_type": "markdown",
   "id": "1d1430fc-d094-422d-b0fe-de277d2cda16",
   "metadata": {},
   "source": [
    "### 7. Translation"
   ]
  },
  {
   "cell_type": "code",
   "execution_count": null,
   "id": "8716f524-274b-4ed9-821a-38ae7d729e96",
   "metadata": {},
   "outputs": [],
   "source": [
    "# Task 7: Translation\n",
    "# translator = google_translator()\n",
    "df['translated_text'] = df['lowercased_text'].apply(lambda x: GoogleTranslator(source='auto', target='es').translate(x))  # Translate to Spanish\n",
    "df.head()"
   ]
  },
  {
   "cell_type": "markdown",
   "id": "f28b1a4b-5965-42fa-9563-bf530deaae50",
   "metadata": {},
   "source": [
    "### 8. Emoji to text"
   ]
  },
  {
   "cell_type": "code",
   "execution_count": null,
   "id": "aa24e8e5-1764-429a-b3d5-acf4c8575fed",
   "metadata": {},
   "outputs": [],
   "source": [
    "# Task 8: Emoji to Text\n",
    "df['emoji_to_text'] = df['text'].apply(lambda x: emoji.demojize(x))\n",
    "df.head()"
   ]
  },
  {
   "cell_type": "markdown",
   "id": "470c4aff-3832-4386-9554-61efd0184c5e",
   "metadata": {},
   "source": [
    "## Perform the following task without using inbuilt Python Libraries (The last two task (Translation and Emoji) are not possible without libraies): "
   ]
  },
  {
   "cell_type": "code",
   "execution_count": null,
   "id": "5ae9dc1d-6cd9-49de-8132-01f0f03baf4a",
   "metadata": {},
   "outputs": [],
   "source": [
    "import re\n",
    "import string\n",
    "\n",
    "# Sample text data\n",
    "text_data = data.head()['text']\n",
    "\n",
    "# Task 1: Lowercasing\n",
    "lowercased_texts = [text.lower() for text in text_data]\n",
    "\n",
    "# Task 2: Tokenization\n",
    "tokenized_texts = [re.findall(r'\\b\\w+\\b', text) for text in text_data]\n",
    "\n",
    "# Task 3: Punctuation Mark Removal\n",
    "cleaned_texts = [''.join(char for char in text if char not in string.punctuation) for text in text_data]\n",
    "\n",
    "# Task 4: Stop Word Removal\n",
    "stop_words = set([\"a\", \"an\", \"the\", \"is\", \"from\", \"this\"])\n",
    "filtered_texts = [' '.join(word for word in text.split() if word.lower() not in stop_words) for text in text_data]\n",
    "\n",
    "# Task 5: Stemming\n",
    "def simple_stemming(text):\n",
    "    return ' '.join(word[:4] if len(word) > 4 else word for word in text.split())\n",
    "\n",
    "stemmed_texts = [simple_stemming(text) for text in text_data]\n",
    "\n",
    "# Task 6: Lemmatization\n",
    "def simple_lemmatization(text):\n",
    "    return ' '.join(word[:-2] if word.endswith(\"es\") else word for word in text.split())\n",
    "\n",
    "lemmatized_texts = [simple_lemmatization(text) for text in text_data]\n",
    "\n",
    "# Display results\n",
    "for i in range(len(text_data)):\n",
    "    print(f\"\\nOriginal Text: {text_data[i]}\")\n",
    "    print(f\"Lowercased Text: {lowercased_texts[i]}\")\n",
    "    print(f\"Tokenized Text: {tokenized_texts[i]}\")\n",
    "    print(f\"Cleaned Text: {cleaned_texts[i]}\")\n",
    "    print(f\"Filtered Text: {filtered_texts[i]}\")\n",
    "    print(f\"Stemmed Text: {stemmed_texts[i]}\")\n",
    "    print(f\"Lemmatized Text: {lemmatized_texts[i]}\")\n"
   ]
  }
 ],
 "metadata": {
  "kernelspec": {
   "display_name": "Python 3 (ipykernel)",
   "language": "python",
   "name": "python3"
  },
  "language_info": {
   "codemirror_mode": {
    "name": "ipython",
    "version": 3
   },
   "file_extension": ".py",
   "mimetype": "text/x-python",
   "name": "python",
   "nbconvert_exporter": "python",
   "pygments_lexer": "ipython3",
   "version": "3.12.0"
  }
 },
 "nbformat": 4,
 "nbformat_minor": 5
}
