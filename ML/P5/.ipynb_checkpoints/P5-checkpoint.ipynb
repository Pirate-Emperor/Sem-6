{
 "cells": [
  {
   "cell_type": "markdown",
   "id": "373f9c95-108d-4b04-972b-2dd145287f2f",
   "metadata": {},
   "source": [
    "# The aim is to employ Logistic Regression and Term Frequency-Inverse Document Frequency (TF-IDF) for spam classification, comparing accuracies across datasets to identify the most effective preprocessing technique."
   ]
  },
  {
   "cell_type": "markdown",
   "id": "dcc57d62-a729-4995-b767-6bda4809bb8b",
   "metadata": {},
   "source": [
    "## Perform the following task with using inbuilt Python Libraries: acy."
   ]
  },
  {
   "cell_type": "markdown",
   "id": "1dcaa3b3-1ba9-44f9-81c5-7cb01a36822c",
   "metadata": {},
   "source": [
    "#### - Perform Classification of data sets (Data 1 (Raw Data), Data 2 (Data with Lowercase), ,..... Data n ) using Logistic Regression. \n",
    "#### - Use Tf-Idf vectorizor for Feature Extraction. \n",
    "#### - Use 80% of data for training and 20% of data for testing.\n",
    "#### - Check the accuracy of the model for each dataset. \n",
    "#### - Write conclusion for with data  (Data 1 (Raw Data), Data 2 (Data with Lowercase), ,..... Data n ), the Logistic Regression provides best accuracy."
   ]
  },
  {
   "cell_type": "code",
   "execution_count": null,
   "id": "8c1ccdf7-19ba-4292-bb85-650354a40596",
   "metadata": {},
   "outputs": [],
   "source": [
    "import pandas as pd\n",
    "import nltk\n",
    "from nltk.tokenize import word_tokenize\n",
    "from nltk.corpus import stopwords\n",
    "from nltk.stem import PorterStemmer, WordNetLemmatizer\n",
    "import string\n",
    "import re\n",
    "from sklearn.model_selection import train_test_split\n",
    "from sklearn.feature_extraction.text import TfidfVectorizer\n",
    "from sklearn.linear_model import LogisticRegression\n",
    "from sklearn.metrics import accuracy_score, precision_score, recall_score, f1_score, confusion_matrix"
   ]
  },
  {
   "cell_type": "code",
   "execution_count": null,
   "id": "294bfb2c-df3e-4778-b424-54936aa1e6d0",
   "metadata": {},
   "outputs": [],
   "source": [
    "!pip install deep_translator"
   ]
  },
  {
   "cell_type": "code",
   "execution_count": null,
   "id": "3db8d3f9-86b2-4a97-bbdb-f53458caad92",
   "metadata": {},
   "outputs": [],
   "source": [
    "nltk.download('stopwords')"
   ]
  },
  {
   "cell_type": "code",
   "execution_count": null,
   "id": "7b4f9981-bb75-49bd-98c6-5f0f84b91027",
   "metadata": {},
   "outputs": [],
   "source": [
    "nltk.download('punkt')"
   ]
  },
  {
   "cell_type": "code",
   "execution_count": null,
   "id": "d8980579-6046-42b7-be74-c77e3eb0c0fd",
   "metadata": {},
   "outputs": [],
   "source": [
    "nltk.download('wordnet')"
   ]
  },
  {
   "cell_type": "code",
   "execution_count": null,
   "id": "9fa1309b-c8a7-4bf9-8e68-fce29aad9211",
   "metadata": {},
   "outputs": [],
   "source": [
    "data = pd.read_csv(\"spam.csv\", encoding=\"ISO-8859-1\")\n",
    "data.head()"
   ]
  },
  {
   "cell_type": "code",
   "execution_count": null,
   "id": "5afb8f1a-82c8-4dd2-8f04-f6b724d25cfe",
   "metadata": {},
   "outputs": [],
   "source": [
    "data = data.drop(columns=[\"Unnamed: 2\", \"Unnamed: 3\", \"Unnamed: 4\"])\n",
    "data.head()"
   ]
  },
  {
   "cell_type": "code",
   "execution_count": null,
   "id": "a0afd74b-55e7-47ff-bd73-f9dcb53cf4f0",
   "metadata": {},
   "outputs": [],
   "source": [
    "df = pd.DataFrame(data)\n",
    "df.head()"
   ]
  },
  {
   "cell_type": "markdown",
   "id": "6095f5d4-0be2-451e-b9dc-063cde0ea62f",
   "metadata": {},
   "source": [
    "### 1. Lower Casing"
   ]
  },
  {
   "cell_type": "code",
   "execution_count": null,
   "id": "64500919-137a-4eed-86a1-135e3d55e97a",
   "metadata": {},
   "outputs": [],
   "source": [
    "# Task 1: Lowercasing\n",
    "df['lowercased_v2'] = df['v2'].apply(lambda x: x.lower())\n",
    "df.head()"
   ]
  },
  {
   "cell_type": "markdown",
   "id": "cae1014d-34f6-482c-a7c8-8610a72a840a",
   "metadata": {},
   "source": [
    "### 2. Tokenization"
   ]
  },
  {
   "cell_type": "code",
   "execution_count": null,
   "id": "e92547f7-8f94-4119-ad7d-95fef39329fe",
   "metadata": {},
   "outputs": [],
   "source": [
    "# Task 2: Tokenization\n",
    "# df['tokens'] = df['lowercased_v2'].apply(lambda x: re.findall(r'\\b\\w+\\b', x))\n",
    "df['tokens'] = df['lowercased_v2'].apply(lambda x: word_tokenize(x))\n",
    "df.head()"
   ]
  },
  {
   "cell_type": "markdown",
   "id": "63974092-be5c-42f7-8569-9226ed3603f1",
   "metadata": {},
   "source": [
    "### 3. Punctuation Mark Removal"
   ]
  },
  {
   "cell_type": "code",
   "execution_count": null,
   "id": "c37ae952-565d-4ade-a104-752553d293fe",
   "metadata": {},
   "outputs": [],
   "source": [
    "# Task 3: Punctuation Mark Removal\n",
    "df['cleaned_v2'] = df['tokens'].apply(lambda x: ''.join(char for char in x if char not in string.punctuation))\n",
    "df.head()"
   ]
  },
  {
   "cell_type": "markdown",
   "id": "70966906-0f68-4d1f-81cf-1413cefa01a7",
   "metadata": {},
   "source": [
    "### 4. Stop Word Removal"
   ]
  },
  {
   "cell_type": "code",
   "execution_count": null,
   "id": "d6fe9be7-514b-4bb1-b980-c71120ad21c2",
   "metadata": {},
   "outputs": [],
   "source": [
    "# Task 4: Stop Word Removal\n",
    "stop_words = set(stopwords.words('english'))\n",
    "df['filtered_v2'] = df['tokens'].apply(lambda x: ' '.join(word for word in x if word not in stop_words))\n",
    "df.head()"
   ]
  },
  {
   "cell_type": "markdown",
   "id": "3ce0d28e-2d68-495f-a3d0-fe677e00c846",
   "metadata": {},
   "source": [
    "### 5. Stemming"
   ]
  },
  {
   "cell_type": "code",
   "execution_count": null,
   "id": "5306636d-f70a-4e96-87ac-123fd0bb9cd2",
   "metadata": {},
   "outputs": [],
   "source": [
    "# Task 5: Stemming\n",
    "stemmer = PorterStemmer()\n",
    "df['stemmed_v2'] = df['tokens'].apply(lambda x: ' '.join(stemmer.stem(word) for word in x))\n",
    "df.head()"
   ]
  },
  {
   "cell_type": "markdown",
   "id": "7c3da5af-9381-4c24-be2f-658364af6ccc",
   "metadata": {},
   "source": [
    "### 6. Lemmatization"
   ]
  },
  {
   "cell_type": "code",
   "execution_count": null,
   "id": "c984f6fd-b11f-4d1e-aa07-45e828bbc742",
   "metadata": {},
   "outputs": [],
   "source": [
    "# Task 6: Lemmatization\n",
    "lemmatizer = WordNetLemmatizer()\n",
    "df['lemmatized_v2'] = df['tokens'].apply(lambda x: ' '.join(lemmatizer.lemmatize(word) for word in x))\n",
    "df.head()"
   ]
  },
  {
   "cell_type": "markdown",
   "id": "1d1430fc-d094-422d-b0fe-de277d2cda16",
   "metadata": {},
   "source": [
    "### 7. Translation"
   ]
  },
  {
   "cell_type": "code",
   "execution_count": null,
   "id": "8716f524-274b-4ed9-821a-38ae7d729e96",
   "metadata": {},
   "outputs": [],
   "source": [
    "# Task 7: Translation\n",
    "# translator = google_translator()\n",
    "df['translated_v2'] = df['lowercased_v2'].apply(lambda x: GoogleTranslator(source='auto', target='es').translate(x))  # Translate to Spanish\n",
    "df.head()"
   ]
  },
  {
   "cell_type": "markdown",
   "id": "f28b1a4b-5965-42fa-9563-bf530deaae50",
   "metadata": {},
   "source": [
    "### 8. Emoji to v2"
   ]
  },
  {
   "cell_type": "code",
   "execution_count": null,
   "id": "aa24e8e5-1764-429a-b3d5-acf4c8575fed",
   "metadata": {},
   "outputs": [],
   "source": [
    "# Task 8: Emoji to v2\n",
    "df['emoji_to_v2'] = df['v2'].apply(lambda x: emoji.demojize(x))\n",
    "df.head()"
   ]
  },
  {
   "cell_type": "markdown",
   "id": "470c4aff-3832-4386-9554-61efd0184c5e",
   "metadata": {},
   "source": [
    "## Perform the above tasks:"
   ]
  },
  {
   "cell_type": "code",
   "execution_count": null,
   "id": "0e0977af-52a4-4433-a594-7f29569870ba",
   "metadata": {},
   "outputs": [],
   "source": [
    "df.head()"
   ]
  },
  {
   "cell_type": "code",
   "execution_count": null,
   "id": "5ae9dc1d-6cd9-49de-8132-01f0f03baf4a",
   "metadata": {},
   "outputs": [],
   "source": [
    "data_columns = ['v2', 'lowercased_v2', 'tokens', 'cleaned_v2', 'filtered_v2', 'stemmed_v2', 'lemmatized_v2']\n",
    "accuracies = []\n",
    "precisions = []\n",
    "recalls = []\n",
    "f1s = []\n",
    "for column in data_columns:\n",
    "    X = df[column].astype(str)\n",
    "    y = df['v1'] \n",
    "    # Training\n",
    "    X_train, X_test, y_train, y_test = train_test_split(X, y, test_size=0.2, random_state=42)\n",
    "    tfidf_vectorizer = TfidfVectorizer()\n",
    "    X_train_tfidf = tfidf_vectorizer.fit_transform(X_train)\n",
    "    X_test_tfidf = tfidf_vectorizer.transform(X_test)\n",
    "    model = LogisticRegression()\n",
    "    model.fit(X_train_tfidf, y_train)\n",
    "    # Prediction\n",
    "    y_pred = model.predict(X_test_tfidf)\n",
    "    accuracy = accuracy_score(y_test, y_pred)\n",
    "    precision = precision_score(y_test, y_pred, pos_label='spam')\n",
    "    recall = recall_score(y_test, y_pred, pos_label='spam')\n",
    "    f1 = f1_score(y_test, y_pred, pos_label='spam')\n",
    "    conf_matrix = confusion_matrix(y_test, y_pred)\n",
    "    \n",
    "    print(f\"\\nResults for {column}:\")\n",
    "    print(f\"Accuracy: {accuracy:.4f}\")\n",
    "    print(f\"Precision: {precision:.4f}\")\n",
    "    print(f\"Recall: {recall:.4f}\")\n",
    "    print(f\"F1 Score: {f1:.4f}\")\n",
    "    print(f\"Confusion Matrix:\\n{conf_matrix}\")\n",
    "    accuracies.append(accuracy)\n",
    "    precisions.append(precision)\n",
    "    recalls.append(recall)\n",
    "    f1s.append(f1);\n",
    "# Conclusion\n",
    "best_index = accuracies.index(max(accuracies))\n",
    "best_dataset = data_columns[best_index]\n",
    "print(f'\\nLogistic Regression provides the best accuracy with {best_dataset} having accuracy of {accuracies[best_index]}.')\n",
    "best_index = precisions.index(max(precisions))\n",
    "best_dataset = data_columns[best_index]\n",
    "print(f'Logistic Regression provides the best precision with {best_dataset} having precision of {precisions[best_index]}.')\n",
    "best_index = recalls.index(max(recalls))\n",
    "best_dataset = data_columns[best_index]\n",
    "print(f'Logistic Regression provides the best recall with {best_dataset} having recall of {recalls[best_index]}.')\n",
    "best_index = f1s.index(max(f1s))\n",
    "best_dataset = data_columns[best_index]\n",
    "print(f'Logistic Regression provides the best F1 score with {best_dataset} having F1 score of {f1s[best_index]}.')"
   ]
  },
  {
   "cell_type": "code",
   "execution_count": null,
   "id": "e70f3b89-dd22-45f0-8dc7-cdbdcd15e94b",
   "metadata": {},
   "outputs": [],
   "source": []
  }
 ],
 "metadata": {
  "kernelspec": {
   "display_name": "Python 3 (ipykernel)",
   "language": "python",
   "name": "python3"
  },
  "language_info": {
   "codemirror_mode": {
    "name": "ipython",
    "version": 3
   },
   "file_extension": ".py",
   "mimetype": "text/x-python",
   "name": "python",
   "nbconvert_exporter": "python",
   "pygments_lexer": "ipython3",
   "version": "3.11.4"
  }
 },
 "nbformat": 4,
 "nbformat_minor": 5
}
